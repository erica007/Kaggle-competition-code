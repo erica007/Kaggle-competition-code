{
 "cells": [
  {
   "cell_type": "markdown",
   "metadata": {
    "_cell_guid": "6a09d4fb-60c5-4f45-b844-8c788a50c543",
    "_uuid": "8e892e637f005dd61ec7dcb95865e52f3de2a77f"
   },
   "source": [
    "# Travelers Statistical Modeling Competition\n",
    "### Predict fraud\n",
    "- Defining the problem statement\n",
    "- Collecting the data\n",
    "- Exploratory data analysis\n",
    "- Feature engineering\n",
    "- Modelling\n",
    "- Testing"
   ]
  },
  {
   "cell_type": "markdown",
   "metadata": {
    "_cell_guid": "4af5e83d-7fd8-4a61-bf26-9583cb6d3476",
    "_uuid": "65d04d276a8983f62a49261f6e94a02b281dbcc9"
   },
   "source": [
    "## 1. Defining the problem statement\n",
    "Complete the analysis of what sorts of claims are fraud.  "
   ]
  },
  {
   "cell_type": "markdown",
   "metadata": {
    "_cell_guid": "3f529075-7f9b-40ff-a79a-f3a11a7d8cbe",
    "_uuid": "64ca0f815766e3e8074b0e04f53947930cb061aa"
   },
   "source": [
    "## 2. Collecting the data\n",
    "\n",
    "training data set and testing data set are given by Kaggle\n",
    "you can download from  \n",
    "https://www.kaggle.com/c/2018%20Travelers%20Statistical%20Modeling%20Competition/data\n",
    "\n",
    "### 2.1 load train, test dataset using Pandas"
   ]
  },
  {
   "cell_type": "code",
   "execution_count": 38,
   "metadata": {},
   "outputs": [],
   "source": [
    "import pandas as pd\n",
    "import numpy as np\n",
    "import matplotlib\n",
    "import matplotlib.pyplot as plt\n",
    "matplotlib.style.use('ggplot')\n",
    "# use the code below to make sure plot is shown in Notebook\n",
    "%matplotlib inline "
   ]
  },
  {
   "cell_type": "code",
   "execution_count": 39,
   "metadata": {},
   "outputs": [
    {
     "data": {
      "text/html": [
       "<div>\n",
       "<style scoped>\n",
       "    .dataframe tbody tr th:only-of-type {\n",
       "        vertical-align: middle;\n",
       "    }\n",
       "\n",
       "    .dataframe tbody tr th {\n",
       "        vertical-align: top;\n",
       "    }\n",
       "\n",
       "    .dataframe thead th {\n",
       "        text-align: right;\n",
       "    }\n",
       "</style>\n",
       "<table border=\"1\" class=\"dataframe\">\n",
       "  <thead>\n",
       "    <tr style=\"text-align: right;\">\n",
       "      <th></th>\n",
       "      <th>claim_number</th>\n",
       "      <th>age_of_driver</th>\n",
       "      <th>gender</th>\n",
       "      <th>marital_status</th>\n",
       "      <th>safty_rating</th>\n",
       "      <th>annual_income</th>\n",
       "      <th>high_education_ind</th>\n",
       "      <th>address_change_ind</th>\n",
       "      <th>living_status</th>\n",
       "      <th>zip_code</th>\n",
       "      <th>...</th>\n",
       "      <th>liab_prct</th>\n",
       "      <th>channel</th>\n",
       "      <th>policy_report_filed_ind</th>\n",
       "      <th>claim_est_payout</th>\n",
       "      <th>age_of_vehicle</th>\n",
       "      <th>vehicle_category</th>\n",
       "      <th>vehicle_price</th>\n",
       "      <th>vehicle_color</th>\n",
       "      <th>vehicle_weight</th>\n",
       "      <th>fraud</th>\n",
       "    </tr>\n",
       "  </thead>\n",
       "  <tbody>\n",
       "    <tr>\n",
       "      <th>0</th>\n",
       "      <td>1</td>\n",
       "      <td>46</td>\n",
       "      <td>M</td>\n",
       "      <td>1.0</td>\n",
       "      <td>85</td>\n",
       "      <td>38301</td>\n",
       "      <td>1</td>\n",
       "      <td>1</td>\n",
       "      <td>Rent</td>\n",
       "      <td>80006</td>\n",
       "      <td>...</td>\n",
       "      <td>74</td>\n",
       "      <td>Broker</td>\n",
       "      <td>0</td>\n",
       "      <td>7530.940993</td>\n",
       "      <td>9.0</td>\n",
       "      <td>Compact</td>\n",
       "      <td>12885.45235</td>\n",
       "      <td>white</td>\n",
       "      <td>16161.33381</td>\n",
       "      <td>0</td>\n",
       "    </tr>\n",
       "    <tr>\n",
       "      <th>1</th>\n",
       "      <td>3</td>\n",
       "      <td>21</td>\n",
       "      <td>F</td>\n",
       "      <td>0.0</td>\n",
       "      <td>75</td>\n",
       "      <td>30445</td>\n",
       "      <td>0</td>\n",
       "      <td>1</td>\n",
       "      <td>Rent</td>\n",
       "      <td>15021</td>\n",
       "      <td>...</td>\n",
       "      <td>79</td>\n",
       "      <td>Online</td>\n",
       "      <td>0</td>\n",
       "      <td>2966.024895</td>\n",
       "      <td>4.0</td>\n",
       "      <td>Large</td>\n",
       "      <td>29429.45218</td>\n",
       "      <td>white</td>\n",
       "      <td>28691.96422</td>\n",
       "      <td>0</td>\n",
       "    </tr>\n",
       "    <tr>\n",
       "      <th>2</th>\n",
       "      <td>4</td>\n",
       "      <td>49</td>\n",
       "      <td>F</td>\n",
       "      <td>0.0</td>\n",
       "      <td>87</td>\n",
       "      <td>38923</td>\n",
       "      <td>0</td>\n",
       "      <td>1</td>\n",
       "      <td>Own</td>\n",
       "      <td>20158</td>\n",
       "      <td>...</td>\n",
       "      <td>0</td>\n",
       "      <td>Broker</td>\n",
       "      <td>0</td>\n",
       "      <td>6283.888333</td>\n",
       "      <td>3.0</td>\n",
       "      <td>Compact</td>\n",
       "      <td>21701.18195</td>\n",
       "      <td>white</td>\n",
       "      <td>22090.94758</td>\n",
       "      <td>1</td>\n",
       "    </tr>\n",
       "  </tbody>\n",
       "</table>\n",
       "<p>3 rows × 25 columns</p>\n",
       "</div>"
      ],
      "text/plain": [
       "   claim_number  age_of_driver gender  marital_status  safty_rating  \\\n",
       "0             1             46      M             1.0            85   \n",
       "1             3             21      F             0.0            75   \n",
       "2             4             49      F             0.0            87   \n",
       "\n",
       "   annual_income  high_education_ind  address_change_ind living_status  \\\n",
       "0          38301                   1                   1          Rent   \n",
       "1          30445                   0                   1          Rent   \n",
       "2          38923                   0                   1           Own   \n",
       "\n",
       "   zip_code  ...   liab_prct channel policy_report_filed_ind  \\\n",
       "0     80006  ...          74  Broker                       0   \n",
       "1     15021  ...          79  Online                       0   \n",
       "2     20158  ...           0  Broker                       0   \n",
       "\n",
       "   claim_est_payout  age_of_vehicle  vehicle_category vehicle_price  \\\n",
       "0       7530.940993             9.0           Compact   12885.45235   \n",
       "1       2966.024895             4.0             Large   29429.45218   \n",
       "2       6283.888333             3.0           Compact   21701.18195   \n",
       "\n",
       "   vehicle_color  vehicle_weight  fraud  \n",
       "0          white     16161.33381      0  \n",
       "1          white     28691.96422      0  \n",
       "2          white     22090.94758      1  \n",
       "\n",
       "[3 rows x 25 columns]"
      ]
     },
     "execution_count": 39,
     "metadata": {},
     "output_type": "execute_result"
    }
   ],
   "source": [
    "import os\n",
    "os.chdir('C:\\\\Users\\\\jaech\\\\Desktop\\\\Travelers')\n",
    "train = pd.read_excel('uconn_comp_2018_train.xlsx', na_values=['NaN',''])\n",
    "train.head(3)"
   ]
  },
  {
   "cell_type": "markdown",
   "metadata": {},
   "source": [
    "### 2.2 import python lib for visualization"
   ]
  },
  {
   "cell_type": "code",
   "execution_count": 40,
   "metadata": {},
   "outputs": [],
   "source": [
    "import matplotlib.pyplot as plt\n",
    "%matplotlib inline\n",
    "import seaborn as sns\n",
    "sns.set()"
   ]
  },
  {
   "cell_type": "markdown",
   "metadata": {
    "_cell_guid": "836a454f-17bc-41a2-be69-cd86c6f3b584",
    "_uuid": "1ed3ad39ead93977b8936d9c96e6f6f806a8f9b3"
   },
   "source": [
    "## 3. Exploratory data analysis\n",
    "Printing first 5 rows of the train dataset."
   ]
  },
  {
   "cell_type": "code",
   "execution_count": 41,
   "metadata": {},
   "outputs": [
    {
     "data": {
      "text/html": [
       "<div>\n",
       "<style scoped>\n",
       "    .dataframe tbody tr th:only-of-type {\n",
       "        vertical-align: middle;\n",
       "    }\n",
       "\n",
       "    .dataframe tbody tr th {\n",
       "        vertical-align: top;\n",
       "    }\n",
       "\n",
       "    .dataframe thead th {\n",
       "        text-align: right;\n",
       "    }\n",
       "</style>\n",
       "<table border=\"1\" class=\"dataframe\">\n",
       "  <thead>\n",
       "    <tr style=\"text-align: right;\">\n",
       "      <th></th>\n",
       "      <th>claim_number</th>\n",
       "      <th>age_of_driver</th>\n",
       "      <th>gender</th>\n",
       "      <th>marital_status</th>\n",
       "      <th>safty_rating</th>\n",
       "      <th>annual_income</th>\n",
       "      <th>high_education_ind</th>\n",
       "      <th>address_change_ind</th>\n",
       "      <th>living_status</th>\n",
       "      <th>zip_code</th>\n",
       "      <th>...</th>\n",
       "      <th>liab_prct</th>\n",
       "      <th>channel</th>\n",
       "      <th>policy_report_filed_ind</th>\n",
       "      <th>claim_est_payout</th>\n",
       "      <th>age_of_vehicle</th>\n",
       "      <th>vehicle_category</th>\n",
       "      <th>vehicle_price</th>\n",
       "      <th>vehicle_color</th>\n",
       "      <th>vehicle_weight</th>\n",
       "      <th>fraud</th>\n",
       "    </tr>\n",
       "  </thead>\n",
       "  <tbody>\n",
       "    <tr>\n",
       "      <th>0</th>\n",
       "      <td>1</td>\n",
       "      <td>46</td>\n",
       "      <td>M</td>\n",
       "      <td>1.0</td>\n",
       "      <td>85</td>\n",
       "      <td>38301</td>\n",
       "      <td>1</td>\n",
       "      <td>1</td>\n",
       "      <td>Rent</td>\n",
       "      <td>80006</td>\n",
       "      <td>...</td>\n",
       "      <td>74</td>\n",
       "      <td>Broker</td>\n",
       "      <td>0</td>\n",
       "      <td>7530.940993</td>\n",
       "      <td>9.0</td>\n",
       "      <td>Compact</td>\n",
       "      <td>12885.45235</td>\n",
       "      <td>white</td>\n",
       "      <td>16161.33381</td>\n",
       "      <td>0</td>\n",
       "    </tr>\n",
       "    <tr>\n",
       "      <th>1</th>\n",
       "      <td>3</td>\n",
       "      <td>21</td>\n",
       "      <td>F</td>\n",
       "      <td>0.0</td>\n",
       "      <td>75</td>\n",
       "      <td>30445</td>\n",
       "      <td>0</td>\n",
       "      <td>1</td>\n",
       "      <td>Rent</td>\n",
       "      <td>15021</td>\n",
       "      <td>...</td>\n",
       "      <td>79</td>\n",
       "      <td>Online</td>\n",
       "      <td>0</td>\n",
       "      <td>2966.024895</td>\n",
       "      <td>4.0</td>\n",
       "      <td>Large</td>\n",
       "      <td>29429.45218</td>\n",
       "      <td>white</td>\n",
       "      <td>28691.96422</td>\n",
       "      <td>0</td>\n",
       "    </tr>\n",
       "    <tr>\n",
       "      <th>2</th>\n",
       "      <td>4</td>\n",
       "      <td>49</td>\n",
       "      <td>F</td>\n",
       "      <td>0.0</td>\n",
       "      <td>87</td>\n",
       "      <td>38923</td>\n",
       "      <td>0</td>\n",
       "      <td>1</td>\n",
       "      <td>Own</td>\n",
       "      <td>20158</td>\n",
       "      <td>...</td>\n",
       "      <td>0</td>\n",
       "      <td>Broker</td>\n",
       "      <td>0</td>\n",
       "      <td>6283.888333</td>\n",
       "      <td>3.0</td>\n",
       "      <td>Compact</td>\n",
       "      <td>21701.18195</td>\n",
       "      <td>white</td>\n",
       "      <td>22090.94758</td>\n",
       "      <td>1</td>\n",
       "    </tr>\n",
       "    <tr>\n",
       "      <th>3</th>\n",
       "      <td>5</td>\n",
       "      <td>58</td>\n",
       "      <td>F</td>\n",
       "      <td>1.0</td>\n",
       "      <td>58</td>\n",
       "      <td>40605</td>\n",
       "      <td>1</td>\n",
       "      <td>0</td>\n",
       "      <td>Own</td>\n",
       "      <td>15024</td>\n",
       "      <td>...</td>\n",
       "      <td>99</td>\n",
       "      <td>Broker</td>\n",
       "      <td>1</td>\n",
       "      <td>6169.747994</td>\n",
       "      <td>4.0</td>\n",
       "      <td>Medium</td>\n",
       "      <td>13198.27344</td>\n",
       "      <td>other</td>\n",
       "      <td>38329.58106</td>\n",
       "      <td>1</td>\n",
       "    </tr>\n",
       "    <tr>\n",
       "      <th>4</th>\n",
       "      <td>6</td>\n",
       "      <td>38</td>\n",
       "      <td>M</td>\n",
       "      <td>1.0</td>\n",
       "      <td>95</td>\n",
       "      <td>36380</td>\n",
       "      <td>1</td>\n",
       "      <td>0</td>\n",
       "      <td>Rent</td>\n",
       "      <td>50034</td>\n",
       "      <td>...</td>\n",
       "      <td>7</td>\n",
       "      <td>Broker</td>\n",
       "      <td>0</td>\n",
       "      <td>4541.387150</td>\n",
       "      <td>7.0</td>\n",
       "      <td>Medium</td>\n",
       "      <td>38060.21122</td>\n",
       "      <td>gray</td>\n",
       "      <td>25876.56319</td>\n",
       "      <td>0</td>\n",
       "    </tr>\n",
       "  </tbody>\n",
       "</table>\n",
       "<p>5 rows × 25 columns</p>\n",
       "</div>"
      ],
      "text/plain": [
       "   claim_number  age_of_driver gender  marital_status  safty_rating  \\\n",
       "0             1             46      M             1.0            85   \n",
       "1             3             21      F             0.0            75   \n",
       "2             4             49      F             0.0            87   \n",
       "3             5             58      F             1.0            58   \n",
       "4             6             38      M             1.0            95   \n",
       "\n",
       "   annual_income  high_education_ind  address_change_ind living_status  \\\n",
       "0          38301                   1                   1          Rent   \n",
       "1          30445                   0                   1          Rent   \n",
       "2          38923                   0                   1           Own   \n",
       "3          40605                   1                   0           Own   \n",
       "4          36380                   1                   0          Rent   \n",
       "\n",
       "   zip_code  ...   liab_prct channel policy_report_filed_ind  \\\n",
       "0     80006  ...          74  Broker                       0   \n",
       "1     15021  ...          79  Online                       0   \n",
       "2     20158  ...           0  Broker                       0   \n",
       "3     15024  ...          99  Broker                       1   \n",
       "4     50034  ...           7  Broker                       0   \n",
       "\n",
       "   claim_est_payout  age_of_vehicle  vehicle_category vehicle_price  \\\n",
       "0       7530.940993             9.0           Compact   12885.45235   \n",
       "1       2966.024895             4.0             Large   29429.45218   \n",
       "2       6283.888333             3.0           Compact   21701.18195   \n",
       "3       6169.747994             4.0            Medium   13198.27344   \n",
       "4       4541.387150             7.0            Medium   38060.21122   \n",
       "\n",
       "   vehicle_color  vehicle_weight  fraud  \n",
       "0          white     16161.33381      0  \n",
       "1          white     28691.96422      0  \n",
       "2          white     22090.94758      1  \n",
       "3          other     38329.58106      1  \n",
       "4           gray     25876.56319      0  \n",
       "\n",
       "[5 rows x 25 columns]"
      ]
     },
     "execution_count": 41,
     "metadata": {},
     "output_type": "execute_result"
    }
   ],
   "source": [
    "train.head(5)"
   ]
  },
  {
   "cell_type": "markdown",
   "metadata": {},
   "source": [
    "### 3.1 Data Dictionary\n",
    "- claim number - Claim ID (cannot be used in model)\n",
    "- age_of_driver - Age of driver\n",
    "- gender - Gender of driver\n",
    "- marital_status - Marital status of driver\n",
    "- safty_rating - Safety rating index of driver\n",
    "- annual_income - Annual income of driver\n",
    "- high_education_ind - Driver’s high education index\n",
    "- address_change_ind - Whether or not the driver changed living address in past 1 year\n",
    "- living_status - Driver’s living status, own or rent\n",
    "- zip_code - Driver’s living address zipcode\n",
    "- claim_date - Date of first notice of claim\n",
    "- claim_day_of_week - Day of week of first notice of claim\n",
    "- accident_site - Accident location, highway, parking lot or local\n",
    "- past_num_of_claims - Number of claims the driver reported in past 5 years\n",
    "- witness_present_ind - Witness indicator of the claim\n",
    "- liab_prct - Liability percentage of the claim\n",
    "- channel - The channel of policy purchasing\n",
    "- policy_report_filed_ind - Policy report filed indicator\n",
    "- claim_est_payout - Estimated claim payout\n",
    "- age_of_vehicle - Age of first party vehicle\n",
    "- vehicle_category - Category of first party vehicle\n",
    "- vehicle_price - Price of first party vehicle\n",
    "- vehicle_color - Color of first party vehicle\n",
    "- vehicle_weight - Weight of first party vehicle\n",
    "- fraud - Fraud indicator (0=no, 1=yes). This is the response variable"
   ]
  },
  {
   "cell_type": "markdown",
   "metadata": {},
   "source": [
    "### 3.2 Data overview (shape, info)"
   ]
  },
  {
   "cell_type": "code",
   "execution_count": 42,
   "metadata": {
    "_cell_guid": "ed1e7849-d1b6-490d-b86b-9ca71dfafc7d",
    "_uuid": "5a641beccf0e555dfd7b9a53a17188ea6edef95b"
   },
   "outputs": [
    {
     "data": {
      "text/plain": [
       "(17998, 25)"
      ]
     },
     "execution_count": 42,
     "metadata": {},
     "output_type": "execute_result"
    }
   ],
   "source": [
    "train.shape\n",
    "#We can see that there are 17998 rows and 25 columns in our training dataset."
   ]
  },
  {
   "cell_type": "code",
   "execution_count": 43,
   "metadata": {
    "_cell_guid": "418b8a69-f2aa-442d-8f45-fa8887190938",
    "_uuid": "4ee2591110660a4a16b3da7a7530f0945e121b46"
   },
   "outputs": [
    {
     "name": "stdout",
     "output_type": "stream",
     "text": [
      "<class 'pandas.core.frame.DataFrame'>\n",
      "RangeIndex: 17998 entries, 0 to 17997\n",
      "Data columns (total 25 columns):\n",
      "claim_number               17998 non-null int64\n",
      "age_of_driver              17998 non-null int64\n",
      "gender                     17998 non-null object\n",
      "marital_status             17993 non-null float64\n",
      "safty_rating               17998 non-null int64\n",
      "annual_income              17998 non-null int64\n",
      "high_education_ind         17998 non-null int64\n",
      "address_change_ind         17998 non-null int64\n",
      "living_status              17998 non-null object\n",
      "zip_code                   17998 non-null int64\n",
      "claim_date                 17998 non-null object\n",
      "claim_day_of_week          17998 non-null object\n",
      "accident_site              17998 non-null object\n",
      "past_num_of_claims         17998 non-null int64\n",
      "witness_present_ind        17866 non-null float64\n",
      "liab_prct                  17998 non-null int64\n",
      "channel                    17998 non-null object\n",
      "policy_report_filed_ind    17998 non-null int64\n",
      "claim_est_payout           17981 non-null float64\n",
      "age_of_vehicle             17990 non-null float64\n",
      "vehicle_category           17998 non-null object\n",
      "vehicle_price              17998 non-null float64\n",
      "vehicle_color              17998 non-null object\n",
      "vehicle_weight             17998 non-null float64\n",
      "fraud                      17998 non-null int64\n",
      "dtypes: float64(6), int64(11), object(8)\n",
      "memory usage: 3.4+ MB\n"
     ]
    }
   ],
   "source": [
    "train.info()"
   ]
  },
  {
   "cell_type": "code",
   "execution_count": 44,
   "metadata": {
    "_cell_guid": "0663e2bb-dc27-4187-94b1-ff4ff78b68bc",
    "_uuid": "3bf74de7f2483d622e41608f6017f2945639e4df"
   },
   "outputs": [
    {
     "data": {
      "text/plain": [
       "claim_number                 0\n",
       "age_of_driver                0\n",
       "gender                       0\n",
       "marital_status               5\n",
       "safty_rating                 0\n",
       "annual_income                0\n",
       "high_education_ind           0\n",
       "address_change_ind           0\n",
       "living_status                0\n",
       "zip_code                     0\n",
       "claim_date                   0\n",
       "claim_day_of_week            0\n",
       "accident_site                0\n",
       "past_num_of_claims           0\n",
       "witness_present_ind        132\n",
       "liab_prct                    0\n",
       "channel                      0\n",
       "policy_report_filed_ind      0\n",
       "claim_est_payout            17\n",
       "age_of_vehicle               8\n",
       "vehicle_category             0\n",
       "vehicle_price                0\n",
       "vehicle_color                0\n",
       "vehicle_weight               0\n",
       "fraud                        0\n",
       "dtype: int64"
      ]
     },
     "execution_count": 44,
     "metadata": {},
     "output_type": "execute_result"
    }
   ],
   "source": [
    "# check null values after dropping -1 fraud values\n",
    "train.isnull().sum()"
   ]
  },
  {
   "cell_type": "code",
   "execution_count": 45,
   "metadata": {},
   "outputs": [
    {
     "data": {
      "text/plain": [
       "claim_number               17998\n",
       "age_of_driver                 87\n",
       "gender                         2\n",
       "marital_status                 2\n",
       "safty_rating                 100\n",
       "annual_income               2693\n",
       "high_education_ind             2\n",
       "address_change_ind             2\n",
       "living_status                  2\n",
       "zip_code                     276\n",
       "claim_date                   731\n",
       "claim_day_of_week              7\n",
       "accident_site                  3\n",
       "past_num_of_claims             7\n",
       "witness_present_ind            2\n",
       "liab_prct                    101\n",
       "channel                        3\n",
       "policy_report_filed_ind        2\n",
       "claim_est_payout           17981\n",
       "age_of_vehicle                17\n",
       "vehicle_category               3\n",
       "vehicle_price              17998\n",
       "vehicle_color                  7\n",
       "vehicle_weight             17998\n",
       "fraud                          3\n",
       "dtype: int64"
      ]
     },
     "execution_count": 45,
     "metadata": {},
     "output_type": "execute_result"
    }
   ],
   "source": [
    "train.nunique()"
   ]
  },
  {
   "cell_type": "code",
   "execution_count": 46,
   "metadata": {},
   "outputs": [
    {
     "data": {
      "text/plain": [
       "Index(['claim_number', 'age_of_driver', 'marital_status', 'safty_rating',\n",
       "       'annual_income', 'high_education_ind', 'address_change_ind', 'zip_code',\n",
       "       'past_num_of_claims', 'witness_present_ind', 'liab_prct',\n",
       "       'policy_report_filed_ind', 'claim_est_payout', 'age_of_vehicle',\n",
       "       'vehicle_price', 'vehicle_weight', 'fraud'],\n",
       "      dtype='object')"
      ]
     },
     "execution_count": 46,
     "metadata": {},
     "output_type": "execute_result"
    }
   ],
   "source": [
    "# This is to check which are numeric features\n",
    "cols = train.columns\n",
    "num_cols = train._get_numeric_data().columns\n",
    "num_cols\n",
    "#len(num_cols)"
   ]
  },
  {
   "cell_type": "code",
   "execution_count": 47,
   "metadata": {},
   "outputs": [
    {
     "data": {
      "text/plain": [
       "['accident_site',\n",
       " 'vehicle_color',\n",
       " 'gender',\n",
       " 'vehicle_category',\n",
       " 'claim_date',\n",
       " 'living_status',\n",
       " 'claim_day_of_week',\n",
       " 'channel']"
      ]
     },
     "execution_count": 47,
     "metadata": {},
     "output_type": "execute_result"
    }
   ],
   "source": [
    "# This is to check which are categorical features\n",
    "list(set(cols) - set(num_cols))"
   ]
  },
  {
   "cell_type": "code",
   "execution_count": 48,
   "metadata": {},
   "outputs": [
    {
     "data": {
      "text/plain": [
       "marital_status           5\n",
       "witness_present_ind    132\n",
       "claim_est_payout        17\n",
       "age_of_vehicle           8\n",
       "dtype: int64"
      ]
     },
     "execution_count": 48,
     "metadata": {},
     "output_type": "execute_result"
    }
   ],
   "source": [
    "# give only the columns that have null values\n",
    "null_columns=train.columns[train.isnull().any()]\n",
    "train[null_columns].isnull().sum()"
   ]
  },
  {
   "cell_type": "code",
   "execution_count": 49,
   "metadata": {},
   "outputs": [
    {
     "data": {
      "text/html": [
       "<div>\n",
       "<style scoped>\n",
       "    .dataframe tbody tr th:only-of-type {\n",
       "        vertical-align: middle;\n",
       "    }\n",
       "\n",
       "    .dataframe tbody tr th {\n",
       "        vertical-align: top;\n",
       "    }\n",
       "\n",
       "    .dataframe thead th {\n",
       "        text-align: right;\n",
       "    }\n",
       "</style>\n",
       "<table border=\"1\" class=\"dataframe\">\n",
       "  <thead>\n",
       "    <tr style=\"text-align: right;\">\n",
       "      <th></th>\n",
       "      <th>claim_number</th>\n",
       "      <th>age_of_driver</th>\n",
       "      <th>marital_status</th>\n",
       "      <th>safty_rating</th>\n",
       "      <th>annual_income</th>\n",
       "      <th>high_education_ind</th>\n",
       "      <th>address_change_ind</th>\n",
       "      <th>zip_code</th>\n",
       "      <th>past_num_of_claims</th>\n",
       "      <th>witness_present_ind</th>\n",
       "      <th>liab_prct</th>\n",
       "      <th>policy_report_filed_ind</th>\n",
       "      <th>claim_est_payout</th>\n",
       "      <th>age_of_vehicle</th>\n",
       "      <th>vehicle_price</th>\n",
       "      <th>vehicle_weight</th>\n",
       "      <th>fraud</th>\n",
       "    </tr>\n",
       "  </thead>\n",
       "  <tbody>\n",
       "    <tr>\n",
       "      <th>count</th>\n",
       "      <td>17998.000000</td>\n",
       "      <td>17998.000000</td>\n",
       "      <td>17993.000000</td>\n",
       "      <td>17998.000000</td>\n",
       "      <td>17998.000000</td>\n",
       "      <td>17998.000000</td>\n",
       "      <td>17998.000000</td>\n",
       "      <td>17998.000000</td>\n",
       "      <td>17998.000000</td>\n",
       "      <td>17866.000000</td>\n",
       "      <td>17998.000000</td>\n",
       "      <td>17998.000000</td>\n",
       "      <td>17981.000000</td>\n",
       "      <td>17990.000000</td>\n",
       "      <td>17998.000000</td>\n",
       "      <td>17998.000000</td>\n",
       "      <td>17998.000000</td>\n",
       "    </tr>\n",
       "    <tr>\n",
       "      <th>mean</th>\n",
       "      <td>14970.601622</td>\n",
       "      <td>43.695466</td>\n",
       "      <td>0.712722</td>\n",
       "      <td>73.562951</td>\n",
       "      <td>37367.655684</td>\n",
       "      <td>0.699189</td>\n",
       "      <td>0.577286</td>\n",
       "      <td>49875.595955</td>\n",
       "      <td>0.505001</td>\n",
       "      <td>0.232677</td>\n",
       "      <td>49.423269</td>\n",
       "      <td>0.600678</td>\n",
       "      <td>4975.792083</td>\n",
       "      <td>5.008060</td>\n",
       "      <td>23089.123114</td>\n",
       "      <td>23031.322385</td>\n",
       "      <td>0.156295</td>\n",
       "    </tr>\n",
       "    <tr>\n",
       "      <th>std</th>\n",
       "      <td>8659.940765</td>\n",
       "      <td>11.959819</td>\n",
       "      <td>0.452505</td>\n",
       "      <td>15.346807</td>\n",
       "      <td>2957.297249</td>\n",
       "      <td>0.458623</td>\n",
       "      <td>0.494004</td>\n",
       "      <td>29214.655149</td>\n",
       "      <td>0.955504</td>\n",
       "      <td>0.422550</td>\n",
       "      <td>33.678470</td>\n",
       "      <td>0.489773</td>\n",
       "      <td>2215.706510</td>\n",
       "      <td>2.258391</td>\n",
       "      <td>11988.429767</td>\n",
       "      <td>12052.385584</td>\n",
       "      <td>0.363604</td>\n",
       "    </tr>\n",
       "    <tr>\n",
       "      <th>min</th>\n",
       "      <td>1.000000</td>\n",
       "      <td>18.000000</td>\n",
       "      <td>0.000000</td>\n",
       "      <td>1.000000</td>\n",
       "      <td>-1.000000</td>\n",
       "      <td>0.000000</td>\n",
       "      <td>0.000000</td>\n",
       "      <td>0.000000</td>\n",
       "      <td>0.000000</td>\n",
       "      <td>0.000000</td>\n",
       "      <td>0.000000</td>\n",
       "      <td>0.000000</td>\n",
       "      <td>282.639432</td>\n",
       "      <td>0.000000</td>\n",
       "      <td>2457.329316</td>\n",
       "      <td>2429.429302</td>\n",
       "      <td>-1.000000</td>\n",
       "    </tr>\n",
       "    <tr>\n",
       "      <th>25%</th>\n",
       "      <td>7479.250000</td>\n",
       "      <td>35.000000</td>\n",
       "      <td>0.000000</td>\n",
       "      <td>65.000000</td>\n",
       "      <td>35554.000000</td>\n",
       "      <td>0.000000</td>\n",
       "      <td>0.000000</td>\n",
       "      <td>20111.000000</td>\n",
       "      <td>0.000000</td>\n",
       "      <td>0.000000</td>\n",
       "      <td>17.000000</td>\n",
       "      <td>0.000000</td>\n",
       "      <td>3337.029436</td>\n",
       "      <td>3.000000</td>\n",
       "      <td>14279.574850</td>\n",
       "      <td>14164.122133</td>\n",
       "      <td>0.000000</td>\n",
       "    </tr>\n",
       "    <tr>\n",
       "      <th>50%</th>\n",
       "      <td>14965.500000</td>\n",
       "      <td>43.000000</td>\n",
       "      <td>1.000000</td>\n",
       "      <td>76.000000</td>\n",
       "      <td>37610.000000</td>\n",
       "      <td>1.000000</td>\n",
       "      <td>1.000000</td>\n",
       "      <td>50028.000000</td>\n",
       "      <td>0.000000</td>\n",
       "      <td>0.000000</td>\n",
       "      <td>50.000000</td>\n",
       "      <td>1.000000</td>\n",
       "      <td>4668.796318</td>\n",
       "      <td>5.000000</td>\n",
       "      <td>20948.879250</td>\n",
       "      <td>20838.150260</td>\n",
       "      <td>0.000000</td>\n",
       "    </tr>\n",
       "    <tr>\n",
       "      <th>75%</th>\n",
       "      <td>22467.750000</td>\n",
       "      <td>51.000000</td>\n",
       "      <td>1.000000</td>\n",
       "      <td>85.000000</td>\n",
       "      <td>39318.000000</td>\n",
       "      <td>1.000000</td>\n",
       "      <td>1.000000</td>\n",
       "      <td>80038.000000</td>\n",
       "      <td>1.000000</td>\n",
       "      <td>0.000000</td>\n",
       "      <td>81.000000</td>\n",
       "      <td>1.000000</td>\n",
       "      <td>6255.901066</td>\n",
       "      <td>6.000000</td>\n",
       "      <td>29562.232780</td>\n",
       "      <td>29430.446293</td>\n",
       "      <td>0.000000</td>\n",
       "    </tr>\n",
       "    <tr>\n",
       "      <th>max</th>\n",
       "      <td>30000.000000</td>\n",
       "      <td>229.000000</td>\n",
       "      <td>1.000000</td>\n",
       "      <td>100.000000</td>\n",
       "      <td>54333.000000</td>\n",
       "      <td>1.000000</td>\n",
       "      <td>1.000000</td>\n",
       "      <td>85083.000000</td>\n",
       "      <td>6.000000</td>\n",
       "      <td>1.000000</td>\n",
       "      <td>100.000000</td>\n",
       "      <td>1.000000</td>\n",
       "      <td>17218.345010</td>\n",
       "      <td>16.000000</td>\n",
       "      <td>127063.506000</td>\n",
       "      <td>123016.650400</td>\n",
       "      <td>1.000000</td>\n",
       "    </tr>\n",
       "  </tbody>\n",
       "</table>\n",
       "</div>"
      ],
      "text/plain": [
       "       claim_number  age_of_driver  marital_status  safty_rating  \\\n",
       "count  17998.000000   17998.000000    17993.000000  17998.000000   \n",
       "mean   14970.601622      43.695466        0.712722     73.562951   \n",
       "std     8659.940765      11.959819        0.452505     15.346807   \n",
       "min        1.000000      18.000000        0.000000      1.000000   \n",
       "25%     7479.250000      35.000000        0.000000     65.000000   \n",
       "50%    14965.500000      43.000000        1.000000     76.000000   \n",
       "75%    22467.750000      51.000000        1.000000     85.000000   \n",
       "max    30000.000000     229.000000        1.000000    100.000000   \n",
       "\n",
       "       annual_income  high_education_ind  address_change_ind      zip_code  \\\n",
       "count   17998.000000        17998.000000        17998.000000  17998.000000   \n",
       "mean    37367.655684            0.699189            0.577286  49875.595955   \n",
       "std      2957.297249            0.458623            0.494004  29214.655149   \n",
       "min        -1.000000            0.000000            0.000000      0.000000   \n",
       "25%     35554.000000            0.000000            0.000000  20111.000000   \n",
       "50%     37610.000000            1.000000            1.000000  50028.000000   \n",
       "75%     39318.000000            1.000000            1.000000  80038.000000   \n",
       "max     54333.000000            1.000000            1.000000  85083.000000   \n",
       "\n",
       "       past_num_of_claims  witness_present_ind     liab_prct  \\\n",
       "count        17998.000000         17866.000000  17998.000000   \n",
       "mean             0.505001             0.232677     49.423269   \n",
       "std              0.955504             0.422550     33.678470   \n",
       "min              0.000000             0.000000      0.000000   \n",
       "25%              0.000000             0.000000     17.000000   \n",
       "50%              0.000000             0.000000     50.000000   \n",
       "75%              1.000000             0.000000     81.000000   \n",
       "max              6.000000             1.000000    100.000000   \n",
       "\n",
       "       policy_report_filed_ind  claim_est_payout  age_of_vehicle  \\\n",
       "count             17998.000000      17981.000000    17990.000000   \n",
       "mean                  0.600678       4975.792083        5.008060   \n",
       "std                   0.489773       2215.706510        2.258391   \n",
       "min                   0.000000        282.639432        0.000000   \n",
       "25%                   0.000000       3337.029436        3.000000   \n",
       "50%                   1.000000       4668.796318        5.000000   \n",
       "75%                   1.000000       6255.901066        6.000000   \n",
       "max                   1.000000      17218.345010       16.000000   \n",
       "\n",
       "       vehicle_price  vehicle_weight         fraud  \n",
       "count   17998.000000    17998.000000  17998.000000  \n",
       "mean    23089.123114    23031.322385      0.156295  \n",
       "std     11988.429767    12052.385584      0.363604  \n",
       "min      2457.329316     2429.429302     -1.000000  \n",
       "25%     14279.574850    14164.122133      0.000000  \n",
       "50%     20948.879250    20838.150260      0.000000  \n",
       "75%     29562.232780    29430.446293      0.000000  \n",
       "max    127063.506000   123016.650400      1.000000  "
      ]
     },
     "execution_count": 49,
     "metadata": {},
     "output_type": "execute_result"
    }
   ],
   "source": [
    "train.describe()"
   ]
  },
  {
   "cell_type": "markdown",
   "metadata": {},
   "source": [
    "### 3.3 Target variable exploration"
   ]
  },
  {
   "cell_type": "code",
   "execution_count": 50,
   "metadata": {},
   "outputs": [
    {
     "data": {
      "text/plain": [
       " 0    15179\n",
       " 1     2816\n",
       "-1        3\n",
       "Name: fraud, dtype: int64"
      ]
     },
     "execution_count": 50,
     "metadata": {},
     "output_type": "execute_result"
    }
   ],
   "source": [
    "# The intent here is to find the distribution of target column\n",
    "train['fraud'].value_counts()"
   ]
  },
  {
   "cell_type": "code",
   "execution_count": 51,
   "metadata": {},
   "outputs": [
    {
     "data": {
      "text/html": [
       "<div>\n",
       "<style scoped>\n",
       "    .dataframe tbody tr th:only-of-type {\n",
       "        vertical-align: middle;\n",
       "    }\n",
       "\n",
       "    .dataframe tbody tr th {\n",
       "        vertical-align: top;\n",
       "    }\n",
       "\n",
       "    .dataframe thead th {\n",
       "        text-align: right;\n",
       "    }\n",
       "</style>\n",
       "<table border=\"1\" class=\"dataframe\">\n",
       "  <thead>\n",
       "    <tr style=\"text-align: right;\">\n",
       "      <th></th>\n",
       "      <th>claim_number</th>\n",
       "      <th>age_of_driver</th>\n",
       "      <th>gender</th>\n",
       "      <th>marital_status</th>\n",
       "      <th>safty_rating</th>\n",
       "      <th>annual_income</th>\n",
       "      <th>high_education_ind</th>\n",
       "      <th>address_change_ind</th>\n",
       "      <th>living_status</th>\n",
       "      <th>zip_code</th>\n",
       "      <th>...</th>\n",
       "      <th>liab_prct</th>\n",
       "      <th>channel</th>\n",
       "      <th>policy_report_filed_ind</th>\n",
       "      <th>claim_est_payout</th>\n",
       "      <th>age_of_vehicle</th>\n",
       "      <th>vehicle_category</th>\n",
       "      <th>vehicle_price</th>\n",
       "      <th>vehicle_color</th>\n",
       "      <th>vehicle_weight</th>\n",
       "      <th>fraud</th>\n",
       "    </tr>\n",
       "  </thead>\n",
       "  <tbody>\n",
       "    <tr>\n",
       "      <th>82</th>\n",
       "      <td>132</td>\n",
       "      <td>32</td>\n",
       "      <td>F</td>\n",
       "      <td>1.0</td>\n",
       "      <td>66</td>\n",
       "      <td>34676</td>\n",
       "      <td>1</td>\n",
       "      <td>0</td>\n",
       "      <td>Own</td>\n",
       "      <td>85060</td>\n",
       "      <td>...</td>\n",
       "      <td>8</td>\n",
       "      <td>Broker</td>\n",
       "      <td>0</td>\n",
       "      <td>7142.277506</td>\n",
       "      <td>9.0</td>\n",
       "      <td>Compact</td>\n",
       "      <td>18070.366510</td>\n",
       "      <td>black</td>\n",
       "      <td>7337.606862</td>\n",
       "      <td>-1</td>\n",
       "    </tr>\n",
       "    <tr>\n",
       "      <th>12825</th>\n",
       "      <td>21336</td>\n",
       "      <td>47</td>\n",
       "      <td>F</td>\n",
       "      <td>1.0</td>\n",
       "      <td>90</td>\n",
       "      <td>38505</td>\n",
       "      <td>0</td>\n",
       "      <td>1</td>\n",
       "      <td>Own</td>\n",
       "      <td>80034</td>\n",
       "      <td>...</td>\n",
       "      <td>23</td>\n",
       "      <td>Broker</td>\n",
       "      <td>0</td>\n",
       "      <td>5952.444157</td>\n",
       "      <td>4.0</td>\n",
       "      <td>Large</td>\n",
       "      <td>8679.988214</td>\n",
       "      <td>silver</td>\n",
       "      <td>30798.717700</td>\n",
       "      <td>-1</td>\n",
       "    </tr>\n",
       "    <tr>\n",
       "      <th>15515</th>\n",
       "      <td>25842</td>\n",
       "      <td>39</td>\n",
       "      <td>F</td>\n",
       "      <td>1.0</td>\n",
       "      <td>66</td>\n",
       "      <td>36632</td>\n",
       "      <td>0</td>\n",
       "      <td>1</td>\n",
       "      <td>Own</td>\n",
       "      <td>80044</td>\n",
       "      <td>...</td>\n",
       "      <td>9</td>\n",
       "      <td>Online</td>\n",
       "      <td>0</td>\n",
       "      <td>4554.701439</td>\n",
       "      <td>5.0</td>\n",
       "      <td>Large</td>\n",
       "      <td>16682.989780</td>\n",
       "      <td>silver</td>\n",
       "      <td>26112.502690</td>\n",
       "      <td>-1</td>\n",
       "    </tr>\n",
       "  </tbody>\n",
       "</table>\n",
       "<p>3 rows × 25 columns</p>\n",
       "</div>"
      ],
      "text/plain": [
       "       claim_number  age_of_driver gender  marital_status  safty_rating  \\\n",
       "82              132             32      F             1.0            66   \n",
       "12825         21336             47      F             1.0            90   \n",
       "15515         25842             39      F             1.0            66   \n",
       "\n",
       "       annual_income  high_education_ind  address_change_ind living_status  \\\n",
       "82             34676                   1                   0           Own   \n",
       "12825          38505                   0                   1           Own   \n",
       "15515          36632                   0                   1           Own   \n",
       "\n",
       "       zip_code  ...   liab_prct channel policy_report_filed_ind  \\\n",
       "82        85060  ...           8  Broker                       0   \n",
       "12825     80034  ...          23  Broker                       0   \n",
       "15515     80044  ...           9  Online                       0   \n",
       "\n",
       "       claim_est_payout  age_of_vehicle  vehicle_category vehicle_price  \\\n",
       "82          7142.277506             9.0           Compact  18070.366510   \n",
       "12825       5952.444157             4.0             Large   8679.988214   \n",
       "15515       4554.701439             5.0             Large  16682.989780   \n",
       "\n",
       "       vehicle_color  vehicle_weight  fraud  \n",
       "82             black     7337.606862     -1  \n",
       "12825         silver    30798.717700     -1  \n",
       "15515         silver    26112.502690     -1  \n",
       "\n",
       "[3 rows x 25 columns]"
      ]
     },
     "execution_count": 51,
     "metadata": {},
     "output_type": "execute_result"
    }
   ],
   "source": [
    "# this is to examine those 3 records having fraud = =1\n",
    "train[train['fraud']==-1]"
   ]
  },
  {
   "cell_type": "markdown",
   "metadata": {
    "_cell_guid": "810cd964-24eb-44fb-9e7b-18bbddd4900f",
    "_uuid": "fd86ccdf2d1248b79c68365444e96e46a50f3f5a"
   },
   "source": [
    "### 3.4 Visualization"
   ]
  },
  {
   "cell_type": "code",
   "execution_count": 52,
   "metadata": {},
   "outputs": [],
   "source": [
    "def bar_chart(feature):\n",
    "    fraud = train[train['fraud']==1][feature].value_counts()\n",
    "    not_fraud = train[train['fraud']==0][feature].value_counts()\n",
    "    df = pd.DataFrame([fraud, not_fraud])\n",
    "    df.index = ['fraud','not_fraud']\n",
    "    df.plot(kind='bar',stacked=True, figsize=(10,5))"
   ]
  },
  {
   "cell_type": "markdown",
   "metadata": {},
   "source": [
    "### age_of_driver"
   ]
  },
  {
   "cell_type": "code",
   "execution_count": 53,
   "metadata": {},
   "outputs": [
    {
     "data": {
      "text/plain": [
       "count    17998.000000\n",
       "mean        43.695466\n",
       "std         11.959819\n",
       "min         18.000000\n",
       "25%         35.000000\n",
       "50%         43.000000\n",
       "75%         51.000000\n",
       "max        229.000000\n",
       "Name: age_of_driver, dtype: float64"
      ]
     },
     "execution_count": 53,
     "metadata": {},
     "output_type": "execute_result"
    }
   ],
   "source": [
    "train.age_of_driver.describe()"
   ]
  },
  {
   "cell_type": "code",
   "execution_count": 54,
   "metadata": {},
   "outputs": [
    {
     "data": {
      "text/plain": [
       "(0, 100)"
      ]
     },
     "execution_count": 54,
     "metadata": {},
     "output_type": "execute_result"
    },
    {
     "data": {
      "image/png": "[encoded data removed]",
      "text/plain": [
       "<Figure size 720x432 with 1 Axes>"
      ]
     },
     "metadata": {},
     "output_type": "display_data"
    }
   ],
   "source": [
    "# Distribution of age_of_driver \n",
    "plt.figure(figsize=(10,6))\n",
    "train[train['fraud']==0]['age_of_driver'].hist(alpha=0.5,color='blue',bins=50,label='Non-Fraudulent claim')\n",
    "train[train['fraud']==1]['age_of_driver'].hist(alpha=0.5,color='red',bins=50,label='Fraudulent claim')\n",
    "plt.legend()\n",
    "plt.xlabel('Age_of_driver')\n",
    "plt.xlim([0,100])"
   ]
  },
  {
   "cell_type": "code",
   "execution_count": 55,
   "metadata": {},
   "outputs": [
    {
     "data": {
      "text/plain": [
       "<matplotlib.axes._subplots.AxesSubplot at 0x27c39c007b8>"
      ]
     },
     "execution_count": 55,
     "metadata": {},
     "output_type": "execute_result"
    },
    {
     "data": {
      "image/png": "[encoded data removed]",
      "text/plain": [
       "<Figure size 864x504 with 1 Axes>"
      ]
     },
     "metadata": {},
     "output_type": "display_data"
    }
   ],
   "source": [
    "plt.figure(figsize=(12, 7))\n",
    "sns.boxplot(x='fraud',y='age_of_driver',data=train,palette='winter')"
   ]
  },
  {
   "cell_type": "markdown",
   "metadata": {},
   "source": [
    "### gender\n",
    "\n",
    "- M: 0\n",
    "- F: 1"
   ]
  },
  {
   "cell_type": "code",
   "execution_count": 56,
   "metadata": {},
   "outputs": [
    {
     "data": {
      "image/png": "[encoded data removed]",
      "text/plain": [
       "<Figure size 720x360 with 1 Axes>"
      ]
     },
     "metadata": {},
     "output_type": "display_data"
    }
   ],
   "source": [
    "bar_chart('gender')"
   ]
  },
  {
   "cell_type": "markdown",
   "metadata": {},
   "source": [
    "### marital_status"
   ]
  },
  {
   "cell_type": "code",
   "execution_count": 57,
   "metadata": {},
   "outputs": [
    {
     "data": {
      "image/png": "[encoded data removed]",
      "text/plain": [
       "<Figure size 720x360 with 1 Axes>"
      ]
     },
     "metadata": {},
     "output_type": "display_data"
    }
   ],
   "source": [
    "bar_chart('marital_status')\n",
    "# married client is more likely to be not fraud"
   ]
  },
  {
   "cell_type": "markdown",
   "metadata": {},
   "source": [
    "### safty_rating"
   ]
  },
  {
   "cell_type": "code",
   "execution_count": 58,
   "metadata": {},
   "outputs": [
    {
     "data": {
      "text/plain": [
       "(0, 100)"
      ]
     },
     "execution_count": 58,
     "metadata": {},
     "output_type": "execute_result"
    },
    {
     "data": {
      "image/png": "[encoded data removed]",
      "text/plain": [
       "<Figure size 720x432 with 1 Axes>"
      ]
     },
     "metadata": {},
     "output_type": "display_data"
    }
   ],
   "source": [
    "# Distribution of safty_rating\n",
    "plt.figure(figsize=(10,6))\n",
    "train[train['fraud']==0]['safty_rating'].hist(alpha=0.5,color='blue',bins=50,label='Non-Fraudulent claim')\n",
    "train[train['fraud']==1]['safty_rating'].hist(alpha=0.5,color='red',bins=50,label='Fraudulent claim')\n",
    "plt.legend()\n",
    "plt.xlabel('safty_rating')\n",
    "plt.xlim([0,100])"
   ]
  },
  {
   "cell_type": "code",
   "execution_count": 59,
   "metadata": {},
   "outputs": [
    {
     "data": {
      "text/plain": [
       "<matplotlib.axes._subplots.AxesSubplot at 0x27c3a60ff28>"
      ]
     },
     "execution_count": 59,
     "metadata": {},
     "output_type": "execute_result"
    },
    {
     "data": {
      "image/png": "[encoded data removed]",
      "text/plain": [
       "<Figure size 864x504 with 1 Axes>"
      ]
     },
     "metadata": {},
     "output_type": "display_data"
    }
   ],
   "source": [
    "plt.figure(figsize=(12, 7))\n",
    "sns.boxplot(x='fraud',y='safty_rating',data=train,palette='winter')"
   ]
  },
  {
   "cell_type": "markdown",
   "metadata": {},
   "source": [
    "### annual_income"
   ]
  },
  {
   "cell_type": "code",
   "execution_count": 62,
   "metadata": {},
   "outputs": [
    {
     "data": {
      "text/plain": [
       "count    17998.000000\n",
       "mean     37367.655684\n",
       "std       2957.297249\n",
       "min         -1.000000\n",
       "25%      35554.000000\n",
       "50%      37610.000000\n",
       "75%      39318.000000\n",
       "max      54333.000000\n",
       "Name: annual_income, dtype: float64"
      ]
     },
     "execution_count": 62,
     "metadata": {},
     "output_type": "execute_result"
    }
   ],
   "source": [
    "train.annual_income.describe()"
   ]
  },
  {
   "cell_type": "code",
   "execution_count": 63,
   "metadata": {},
   "outputs": [
    {
     "data": {
      "text/plain": [
       "(0, 55000)"
      ]
     },
     "execution_count": 63,
     "metadata": {},
     "output_type": "execute_result"
    },
    {
     "data": {
      "image/png": "[encoded data removed]",
      "text/plain": [
       "<Figure size 720x432 with 1 Axes>"
      ]
     },
     "metadata": {},
     "output_type": "display_data"
    }
   ],
   "source": [
    "# Distribution of annual_income\n",
    "plt.figure(figsize=(10,6))\n",
    "train[train['fraud']==0]['annual_income'].hist(alpha=0.5,color='blue',bins=50,label='Non-Fraudulent claim')\n",
    "train[train['fraud']==1]['annual_income'].hist(alpha=0.5,color='red',bins=50,label='Fraudulent claim')\n",
    "plt.legend()\n",
    "plt.xlabel('annual_income')\n",
    "plt.xlim([0,55000])"
   ]
  },
  {
   "cell_type": "code",
   "execution_count": 64,
   "metadata": {},
   "outputs": [
    {
     "data": {
      "text/plain": [
       "<matplotlib.axes._subplots.AxesSubplot at 0x27c3a580ba8>"
      ]
     },
     "execution_count": 64,
     "metadata": {},
     "output_type": "execute_result"
    },
    {
     "data": {
      "image/png": "[encoded data removed]",
      "text/plain": [
       "<Figure size 864x504 with 1 Axes>"
      ]
     },
     "metadata": {},
     "output_type": "display_data"
    }
   ],
   "source": [
    "plt.figure(figsize=(12, 7))\n",
    "sns.boxplot(x='fraud',y='annual_income',data=train,palette='winter')"
   ]
  },
  {
   "cell_type": "markdown",
   "metadata": {},
   "source": [
    "### high_education_ind"
   ]
  },
  {
   "cell_type": "code",
   "execution_count": 65,
   "metadata": {},
   "outputs": [
    {
     "data": {
      "image/png": "[encoded data removed]",
      "text/plain": [
       "<Figure size 720x360 with 1 Axes>"
      ]
     },
     "metadata": {},
     "output_type": "display_data"
    }
   ],
   "source": [
    "bar_chart('high_education_ind')\n",
    "#one with high education is less likely to commit fraud"
   ]
  },
  {
   "cell_type": "markdown",
   "metadata": {},
   "source": [
    "### address_change_ind"
   ]
  },
  {
   "cell_type": "code",
   "execution_count": 66,
   "metadata": {},
   "outputs": [
    {
     "data": {
      "image/png": "[encoded data removed]",
      "text/plain": [
       "<Figure size 720x360 with 1 Axes>"
      ]
     },
     "metadata": {},
     "output_type": "display_data"
    }
   ],
   "source": [
    "bar_chart('address_change_ind')"
   ]
  },
  {
   "cell_type": "markdown",
   "metadata": {},
   "source": [
    "### living_status"
   ]
  },
  {
   "cell_type": "code",
   "execution_count": 67,
   "metadata": {
    "scrolled": true
   },
   "outputs": [
    {
     "data": {
      "image/png": "[encoded data removed]",
      "text/plain": [
       "<Figure size 720x360 with 1 Axes>"
      ]
     },
     "metadata": {},
     "output_type": "display_data"
    }
   ],
   "source": [
    "bar_chart('living_status')"
   ]
  },
  {
   "cell_type": "markdown",
   "metadata": {},
   "source": [
    "### claim_day_of_week"
   ]
  },
  {
   "cell_type": "code",
   "execution_count": 68,
   "metadata": {},
   "outputs": [
    {
     "data": {
      "image/png": "[encoded data removed]",
      "text/plain": [
       "<Figure size 720x360 with 1 Axes>"
      ]
     },
     "metadata": {},
     "output_type": "display_data"
    }
   ],
   "source": [
    "bar_chart('claim_day_of_week')"
   ]
  },
  {
   "cell_type": "markdown",
   "metadata": {},
   "source": [
    "### accident_site"
   ]
  },
  {
   "cell_type": "code",
   "execution_count": 69,
   "metadata": {},
   "outputs": [
    {
     "data": {
      "image/png": "[encoded data removed]",
      "text/plain": [
       "<Figure size 720x360 with 1 Axes>"
      ]
     },
     "metadata": {},
     "output_type": "display_data"
    }
   ],
   "source": [
    "bar_chart('accident_site')"
   ]
  },
  {
   "cell_type": "markdown",
   "metadata": {},
   "source": [
    "### past_num_of_claims"
   ]
  },
  {
   "cell_type": "code",
   "execution_count": 70,
   "metadata": {},
   "outputs": [
    {
     "data": {
      "image/png": "[encoded data removed]",
      "text/plain": [
       "<Figure size 720x360 with 1 Axes>"
      ]
     },
     "metadata": {},
     "output_type": "display_data"
    }
   ],
   "source": [
    "bar_chart('past_num_of_claims')"
   ]
  },
  {
   "cell_type": "markdown",
   "metadata": {},
   "source": [
    "### witness_present_ind"
   ]
  },
  {
   "cell_type": "code",
   "execution_count": 71,
   "metadata": {},
   "outputs": [
    {
     "data": {
      "image/png": "[encoded data removed]",
      "text/plain": [
       "<Figure size 720x360 with 1 Axes>"
      ]
     },
     "metadata": {},
     "output_type": "display_data"
    }
   ],
   "source": [
    "bar_chart('witness_present_ind')"
   ]
  },
  {
   "cell_type": "markdown",
   "metadata": {},
   "source": [
    "### liab_prct"
   ]
  },
  {
   "cell_type": "code",
   "execution_count": 72,
   "metadata": {},
   "outputs": [
    {
     "data": {
      "text/plain": [
       "(0, 100)"
      ]
     },
     "execution_count": 72,
     "metadata": {},
     "output_type": "execute_result"
    },
    {
     "data": {
      "image/png": "[encoded data removed]",
      "text/plain": [
       "<Figure size 720x432 with 1 Axes>"
      ]
     },
     "metadata": {},
     "output_type": "display_data"
    }
   ],
   "source": [
    "# Distribution of liab_prct\n",
    "plt.figure(figsize=(10,6))\n",
    "train[train['fraud']==0]['liab_prct'].hist(alpha=0.5,color='blue',bins=50,label='Non-Fraudulent claim')\n",
    "train[train['fraud']==1]['liab_prct'].hist(alpha=0.5,color='red',bins=50,label='Fraudulent claim')\n",
    "plt.legend()\n",
    "plt.xlabel('liab_prct')\n",
    "plt.xlim([0,100])"
   ]
  },
  {
   "cell_type": "code",
   "execution_count": 73,
   "metadata": {},
   "outputs": [
    {
     "data": {
      "text/plain": [
       "<matplotlib.axes._subplots.AxesSubplot at 0x27c37c310b8>"
      ]
     },
     "execution_count": 73,
     "metadata": {},
     "output_type": "execute_result"
    },
    {
     "data": {
      "image/png": "[encoded data removed]",
      "text/plain": [
       "<Figure size 864x504 with 1 Axes>"
      ]
     },
     "metadata": {},
     "output_type": "display_data"
    }
   ],
   "source": [
    "plt.figure(figsize=(12, 7))\n",
    "sns.boxplot(x='fraud',y='liab_prct',data=train,palette='winter')"
   ]
  },
  {
   "cell_type": "markdown",
   "metadata": {},
   "source": [
    "### channel"
   ]
  },
  {
   "cell_type": "code",
   "execution_count": 74,
   "metadata": {},
   "outputs": [
    {
     "data": {
      "image/png": "[encoded data removed]",
      "text/plain": [
       "<Figure size 720x360 with 1 Axes>"
      ]
     },
     "metadata": {},
     "output_type": "display_data"
    }
   ],
   "source": [
    "bar_chart('channel')"
   ]
  },
  {
   "cell_type": "markdown",
   "metadata": {},
   "source": [
    "### policy_report_filed_ind"
   ]
  },
  {
   "cell_type": "code",
   "execution_count": 75,
   "metadata": {},
   "outputs": [
    {
     "data": {
      "image/png": "[encoded data removed]",
      "text/plain": [
       "<Figure size 720x360 with 1 Axes>"
      ]
     },
     "metadata": {},
     "output_type": "display_data"
    }
   ],
   "source": [
    "bar_chart('policy_report_filed_ind')"
   ]
  },
  {
   "cell_type": "markdown",
   "metadata": {},
   "source": [
    "### claim_est_payout"
   ]
  },
  {
   "cell_type": "code",
   "execution_count": 76,
   "metadata": {},
   "outputs": [
    {
     "data": {
      "text/plain": [
       "count    17981.000000\n",
       "mean      4975.792083\n",
       "std       2215.706510\n",
       "min        282.639432\n",
       "25%       3337.029436\n",
       "50%       4668.796318\n",
       "75%       6255.901066\n",
       "max      17218.345010\n",
       "Name: claim_est_payout, dtype: float64"
      ]
     },
     "execution_count": 76,
     "metadata": {},
     "output_type": "execute_result"
    }
   ],
   "source": [
    "train.claim_est_payout.describe()"
   ]
  },
  {
   "cell_type": "code",
   "execution_count": 77,
   "metadata": {},
   "outputs": [
    {
     "data": {
      "text/plain": [
       "(0, 17500)"
      ]
     },
     "execution_count": 77,
     "metadata": {},
     "output_type": "execute_result"
    },
    {
     "data": {
      "image/png": "[encoded data removed]",
      "text/plain": [
       "<Figure size 720x432 with 1 Axes>"
      ]
     },
     "metadata": {},
     "output_type": "display_data"
    }
   ],
   "source": [
    "# Distribution of claim_est_payout\n",
    "plt.figure(figsize=(10,6))\n",
    "train[train['fraud']==0]['claim_est_payout'].hist(alpha=0.5,color='blue',bins=50,label='Non-Fraudulent claim')\n",
    "train[train['fraud']==1]['claim_est_payout'].hist(alpha=0.5,color='red',bins=50,label='Fraudulent claim')\n",
    "plt.legend()\n",
    "plt.xlabel('claim_est_payout')\n",
    "plt.xlim([0,17500])"
   ]
  },
  {
   "cell_type": "code",
   "execution_count": 78,
   "metadata": {},
   "outputs": [
    {
     "data": {
      "text/plain": [
       "<matplotlib.axes._subplots.AxesSubplot at 0x27c379a1978>"
      ]
     },
     "execution_count": 78,
     "metadata": {},
     "output_type": "execute_result"
    },
    {
     "data": {
      "image/png": "[encoded data removed]",
      "text/plain": [
       "<Figure size 864x504 with 1 Axes>"
      ]
     },
     "metadata": {},
     "output_type": "display_data"
    }
   ],
   "source": [
    "plt.figure(figsize=(12, 7))\n",
    "sns.boxplot(x='fraud',y='claim_est_payout',data=train,palette='winter')"
   ]
  },
  {
   "cell_type": "markdown",
   "metadata": {},
   "source": [
    "### age_of_vehicle"
   ]
  },
  {
   "cell_type": "code",
   "execution_count": 79,
   "metadata": {
    "scrolled": true
   },
   "outputs": [
    {
     "data": {
      "text/plain": [
       "count    17990.000000\n",
       "mean         5.008060\n",
       "std          2.258391\n",
       "min          0.000000\n",
       "25%          3.000000\n",
       "50%          5.000000\n",
       "75%          6.000000\n",
       "max         16.000000\n",
       "Name: age_of_vehicle, dtype: float64"
      ]
     },
     "execution_count": 79,
     "metadata": {},
     "output_type": "execute_result"
    }
   ],
   "source": [
    "train.age_of_vehicle.describe()"
   ]
  },
  {
   "cell_type": "code",
   "execution_count": 80,
   "metadata": {},
   "outputs": [
    {
     "data": {
      "image/png": "[encoded data removed]",
      "text/plain": [
       "<Figure size 720x360 with 1 Axes>"
      ]
     },
     "metadata": {},
     "output_type": "display_data"
    }
   ],
   "source": [
    "bar_chart('age_of_vehicle')"
   ]
  },
  {
   "cell_type": "markdown",
   "metadata": {},
   "source": [
    "### vehicle_category"
   ]
  },
  {
   "cell_type": "code",
   "execution_count": 81,
   "metadata": {},
   "outputs": [
    {
     "data": {
      "image/png": "[encoded data removed]",
      "text/plain": [
       "<Figure size 720x360 with 1 Axes>"
      ]
     },
     "metadata": {},
     "output_type": "display_data"
    }
   ],
   "source": [
    "bar_chart('vehicle_category')"
   ]
  },
  {
   "cell_type": "markdown",
   "metadata": {},
   "source": [
    "### vehicle_price"
   ]
  },
  {
   "cell_type": "code",
   "execution_count": 82,
   "metadata": {},
   "outputs": [
    {
     "data": {
      "text/plain": [
       "count     17998.000000\n",
       "mean      23089.123114\n",
       "std       11988.429767\n",
       "min        2457.329316\n",
       "25%       14279.574850\n",
       "50%       20948.879250\n",
       "75%       29562.232780\n",
       "max      127063.506000\n",
       "Name: vehicle_price, dtype: float64"
      ]
     },
     "execution_count": 82,
     "metadata": {},
     "output_type": "execute_result"
    }
   ],
   "source": [
    "train.vehicle_price.describe()"
   ]
  },
  {
   "cell_type": "code",
   "execution_count": 83,
   "metadata": {},
   "outputs": [
    {
     "data": {
      "text/plain": [
       "(0, 130000)"
      ]
     },
     "execution_count": 83,
     "metadata": {},
     "output_type": "execute_result"
    },
    {
     "data": {
      "image/png": "[encoded data removed]",
      "text/plain": [
       "<Figure size 720x432 with 1 Axes>"
      ]
     },
     "metadata": {},
     "output_type": "display_data"
    }
   ],
   "source": [
    "# Distribution of vehicle_price\n",
    "plt.figure(figsize=(10,6))\n",
    "train[train['fraud']==0]['vehicle_price'].hist(alpha=0.5,color='blue',bins=50,label='Non-Fraudulent claim')\n",
    "train[train['fraud']==1]['vehicle_price'].hist(alpha=0.5,color='red',bins=50,label='Fraudulent claim')\n",
    "plt.legend()\n",
    "plt.xlabel('vehicle_price')\n",
    "plt.xlim([0,130000])"
   ]
  },
  {
   "cell_type": "code",
   "execution_count": 84,
   "metadata": {},
   "outputs": [
    {
     "data": {
      "text/plain": [
       "<matplotlib.axes._subplots.AxesSubplot at 0x27c3703bcc0>"
      ]
     },
     "execution_count": 84,
     "metadata": {},
     "output_type": "execute_result"
    },
    {
     "data": {
      "image/png": "[encoded data removed]",
      "text/plain": [
       "<Figure size 864x504 with 1 Axes>"
      ]
     },
     "metadata": {},
     "output_type": "display_data"
    }
   ],
   "source": [
    "plt.figure(figsize=(12, 7))\n",
    "sns.boxplot(x='fraud',y='vehicle_price',data=train,palette='winter')"
   ]
  },
  {
   "cell_type": "markdown",
   "metadata": {},
   "source": [
    "### 4.22 vehicle_color"
   ]
  },
  {
   "cell_type": "code",
   "execution_count": 85,
   "metadata": {},
   "outputs": [
    {
     "data": {
      "image/png": "[encoded data removed]",
      "text/plain": [
       "<Figure size 720x360 with 1 Axes>"
      ]
     },
     "metadata": {},
     "output_type": "display_data"
    }
   ],
   "source": [
    "bar_chart('vehicle_color')"
   ]
  },
  {
   "cell_type": "markdown",
   "metadata": {},
   "source": [
    "### 4.23 vehicle_weight"
   ]
  },
  {
   "cell_type": "code",
   "execution_count": 87,
   "metadata": {
    "scrolled": true
   },
   "outputs": [
    {
     "data": {
      "text/plain": [
       "count     17998.000000\n",
       "mean      23031.322385\n",
       "std       12052.385584\n",
       "min        2429.429302\n",
       "25%       14164.122133\n",
       "50%       20838.150260\n",
       "75%       29430.446293\n",
       "max      123016.650400\n",
       "Name: vehicle_weight, dtype: float64"
      ]
     },
     "execution_count": 87,
     "metadata": {},
     "output_type": "execute_result"
    }
   ],
   "source": [
    "train.vehicle_weight.describe()"
   ]
  },
  {
   "cell_type": "code",
   "execution_count": 88,
   "metadata": {},
   "outputs": [
    {
     "data": {
      "text/plain": [
       "(0, 125000)"
      ]
     },
     "execution_count": 88,
     "metadata": {},
     "output_type": "execute_result"
    },
    {
     "data": {
      "image/png": "[encoded data removed]",
      "text/plain": [
       "<Figure size 720x432 with 1 Axes>"
      ]
     },
     "metadata": {},
     "output_type": "display_data"
    }
   ],
   "source": [
    "# Distribution of vehicle_weight\n",
    "plt.figure(figsize=(10,6))\n",
    "train[train['fraud']==0]['vehicle_weight'].hist(alpha=0.5,color='blue',bins=50,label='Non-Fraudulent claim')\n",
    "train[train['fraud']==1]['vehicle_weight'].hist(alpha=0.5,color='red',bins=50,label='Fraudulent claim')\n",
    "plt.legend()\n",
    "plt.xlabel('vehicle_weight')\n",
    "plt.xlim([0,125000])"
   ]
  },
  {
   "cell_type": "code",
   "execution_count": 89,
   "metadata": {},
   "outputs": [
    {
     "data": {
      "text/plain": [
       "<matplotlib.axes._subplots.AxesSubplot at 0x27c378a8da0>"
      ]
     },
     "execution_count": 89,
     "metadata": {},
     "output_type": "execute_result"
    },
    {
     "data": {
      "image/png": "[encoded data removed]",
      "text/plain": [
       "<Figure size 864x504 with 1 Axes>"
      ]
     },
     "metadata": {},
     "output_type": "display_data"
    }
   ],
   "source": [
    "plt.figure(figsize=(12, 7))\n",
    "sns.boxplot(x='fraud',y='vehicle_weight',data=train,palette='winter')"
   ]
  }
 ],
 "metadata": {
  "kernelspec": {
   "display_name": "Python 3",
   "language": "python",
   "name": "python3"
  },
  "language_info": {
   "codemirror_mode": {
    "name": "ipython",
    "version": 3
   },
   "file_extension": ".py",
   "mimetype": "text/x-python",
   "name": "python",
   "nbconvert_exporter": "python",
   "pygments_lexer": "ipython3",
   "version": "3.6.5"
  }
 },
 "nbformat": 4,
 "nbformat_minor": 1
}
